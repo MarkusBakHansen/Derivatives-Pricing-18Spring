{
 "cells": [
  {
   "cell_type": "code",
   "execution_count": 4,
   "metadata": {},
   "outputs": [],
   "source": [
    "import numpy as np\n",
    "from math import exp, sqrt, log\n",
    "import pandas as pd\n",
    "from copy import copy\n",
    "import os\n",
    "from scipy.stats import norm"
   ]
  },
  {
   "cell_type": "code",
   "execution_count": 5,
   "metadata": {},
   "outputs": [
    {
     "data": {
      "text/html": [
       "<div>\n",
       "<style scoped>\n",
       "    .dataframe tbody tr th:only-of-type {\n",
       "        vertical-align: middle;\n",
       "    }\n",
       "\n",
       "    .dataframe tbody tr th {\n",
       "        vertical-align: top;\n",
       "    }\n",
       "\n",
       "    .dataframe thead th {\n",
       "        text-align: right;\n",
       "    }\n",
       "</style>\n",
       "<table border=\"1\" class=\"dataframe\">\n",
       "  <thead>\n",
       "    <tr style=\"text-align: right;\">\n",
       "      <th></th>\n",
       "      <th>Implied vol</th>\n",
       "    </tr>\n",
       "    <tr>\n",
       "      <th>Strike</th>\n",
       "      <th></th>\n",
       "    </tr>\n",
       "  </thead>\n",
       "  <tbody>\n",
       "    <tr>\n",
       "      <th>50</th>\n",
       "      <td>30.000000</td>\n",
       "    </tr>\n",
       "    <tr>\n",
       "      <th>60</th>\n",
       "      <td>28.000000</td>\n",
       "    </tr>\n",
       "    <tr>\n",
       "      <th>70</th>\n",
       "      <td>27.334315</td>\n",
       "    </tr>\n",
       "    <tr>\n",
       "      <th>80</th>\n",
       "      <td>23.955320</td>\n",
       "    </tr>\n",
       "    <tr>\n",
       "      <th>90</th>\n",
       "      <td>20.617317</td>\n",
       "    </tr>\n",
       "    <tr>\n",
       "      <th>100</th>\n",
       "      <td>17.145899</td>\n",
       "    </tr>\n",
       "    <tr>\n",
       "      <th>110</th>\n",
       "      <td>13.725463</td>\n",
       "    </tr>\n",
       "    <tr>\n",
       "      <th>120</th>\n",
       "      <td>11.777155</td>\n",
       "    </tr>\n",
       "    <tr>\n",
       "      <th>130</th>\n",
       "      <td>11.346723</td>\n",
       "    </tr>\n",
       "    <tr>\n",
       "      <th>140</th>\n",
       "      <td>11.200000</td>\n",
       "    </tr>\n",
       "    <tr>\n",
       "      <th>150</th>\n",
       "      <td>11.100000</td>\n",
       "    </tr>\n",
       "  </tbody>\n",
       "</table>\n",
       "</div>"
      ],
      "text/plain": [
       "        Implied vol\n",
       "Strike             \n",
       "50        30.000000\n",
       "60        28.000000\n",
       "70        27.334315\n",
       "80        23.955320\n",
       "90        20.617317\n",
       "100       17.145899\n",
       "110       13.725463\n",
       "120       11.777155\n",
       "130       11.346723\n",
       "140       11.200000\n",
       "150       11.100000"
      ]
     },
     "execution_count": 5,
     "metadata": {},
     "output_type": "execute_result"
    }
   ],
   "source": [
    "os.chdir(\"/Users/Markus/Documents/Ex 5\")\n",
    "%matplotlib inline\n",
    "\n",
    "#import implied vol and option premia data\n",
    "implied_vols = pd.read_excel(\"Data.xlsx\", sheet_name = \"Implied vols\", index_col = 0)\n",
    "option_premia = pd.read_excel(\"Data.xlsx\", sheet_name = \"Call premia\", index_col = 0)\n",
    "\n",
    "implied_vols"
   ]
  },
  {
   "cell_type": "code",
   "execution_count": 6,
   "metadata": {},
   "outputs": [],
   "source": [
    "#set simulation parameters\n",
    "s_0 = 100.\n",
    "timesteps = 100\n",
    "paths = 1000\n",
    "\n",
    "r = 0.05\n",
    "expiry = 2.\n",
    "\n",
    "dtime = expiry/timesteps"
   ]
  },
  {
   "cell_type": "code",
   "execution_count": 7,
   "metadata": {},
   "outputs": [
    {
     "name": "stdout",
     "output_type": "stream",
     "text": [
      "[[ 0.76735732 -0.16284959 -1.19847317  1.77868548 -0.51001615]\n",
      " [ 1.50539658  0.1185895   0.29241905  0.21272996 -0.60600797]\n",
      " [ 0.50033811  0.91977602 -0.97192107 -1.03903788  0.09167847]\n",
      " [-0.4323842  -0.71944209  1.17728319  1.09667025 -0.59724368]\n",
      " [-0.79299049  2.03855471  2.27082902  0.71077664 -0.41682697]]\n"
     ]
    }
   ],
   "source": [
    "#get random normal matrix\n",
    "#np.random.seed(2)\n",
    "random_normals = np.random.normal(size=[paths, timesteps])\n",
    "print(random_normals[:5,:5])"
   ]
  },
  {
   "cell_type": "code",
   "execution_count": 26,
   "metadata": {},
   "outputs": [],
   "source": [
    "#1 path simulation\n",
    "strike = 100\n",
    "vol = implied_vols.loc[strike, \"Implied vol\"]/100.\n",
    "\n",
    "S_values = []\n",
    "S = s_0\n",
    "\n",
    "for k in range(timesteps):\n",
    "    random_normal = random_normals[4,k]\n",
    "    S = S * exp((r-0.5*(vol**2))*dtime + vol*sqrt(dtime)*random_normal)\n",
    "    S_values.append(S)\n",
    "    \n",
    "#MC BSM Call option value  \n",
    "strike = 120\n",
    "vol = implied_vols.loc[strike, \"Implied vol\"]/100.\n",
    "\n",
    "payoff_sum = 0\n",
    "\n",
    "for i in range(paths):\n",
    "    \n",
    "    S = s_0\n",
    "    \n",
    "    for k in range(timesteps):\n",
    "        random_normal = random_normals[i,k]\n",
    "        S = S * exp((r-0.5*(vol**2))*dtime + vol*sqrt(dtime)*random_normal)\n",
    "    \n",
    "    payoff = max(S-strike, 0) \n",
    "    payoff_sum = payoff_sum + payoff"
   ]
  },
  {
   "cell_type": "code",
   "execution_count": 17,
   "metadata": {},
   "outputs": [
    {
     "data": {
      "text/plain": [
       "<matplotlib.axes._subplots.AxesSubplot at 0x109db8b70>"
      ]
     },
     "execution_count": 17,
     "metadata": {},
     "output_type": "execute_result"
    },
    {
     "data": {
      "image/png": "[encoded data removed]",
      "text/plain": [
       "<matplotlib.figure.Figure at 0x103f52828>"
      ]
     },
     "metadata": {},
     "output_type": "display_data"
    }
   ],
   "source": [
    "(pd.DataFrame(S_values)).plot()"
   ]
  },
  {
   "cell_type": "code",
   "execution_count": 27,
   "metadata": {},
   "outputs": [
    {
     "name": "stdout",
     "output_type": "stream",
     "text": [
      "3.1764153243614697\n"
     ]
    }
   ],
   "source": [
    "Call_price = exp(-r*expiry)*payoff_sum/paths\n",
    "\n",
    "print(Call_price)\n",
    "\n",
    "option_premia.loc[strike, \"MC BSM\"] = copy(Call_price)"
   ]
  },
  {
   "cell_type": "code",
   "execution_count": 28,
   "metadata": {},
   "outputs": [
    {
     "data": {
      "text/html": [
       "<div>\n",
       "<style scoped>\n",
       "    .dataframe tbody tr th:only-of-type {\n",
       "        vertical-align: middle;\n",
       "    }\n",
       "\n",
       "    .dataframe tbody tr th {\n",
       "        vertical-align: top;\n",
       "    }\n",
       "\n",
       "    .dataframe thead th {\n",
       "        text-align: right;\n",
       "    }\n",
       "</style>\n",
       "<table border=\"1\" class=\"dataframe\">\n",
       "  <thead>\n",
       "    <tr style=\"text-align: right;\">\n",
       "      <th></th>\n",
       "      <th>Premium</th>\n",
       "      <th>MC BSM</th>\n",
       "    </tr>\n",
       "    <tr>\n",
       "      <th>Strike</th>\n",
       "      <th></th>\n",
       "      <th></th>\n",
       "    </tr>\n",
       "  </thead>\n",
       "  <tbody>\n",
       "    <tr>\n",
       "      <th>80</th>\n",
       "      <td>30.209683</td>\n",
       "      <td>28.730600</td>\n",
       "    </tr>\n",
       "    <tr>\n",
       "      <th>90</th>\n",
       "      <td>22.274272</td>\n",
       "      <td>21.121275</td>\n",
       "    </tr>\n",
       "    <tr>\n",
       "      <th>100</th>\n",
       "      <td>14.714982</td>\n",
       "      <td>13.890068</td>\n",
       "    </tr>\n",
       "    <tr>\n",
       "      <th>110</th>\n",
       "      <td>7.949722</td>\n",
       "      <td>7.423519</td>\n",
       "    </tr>\n",
       "    <tr>\n",
       "      <th>120</th>\n",
       "      <td>3.457534</td>\n",
       "      <td>3.176415</td>\n",
       "    </tr>\n",
       "  </tbody>\n",
       "</table>\n",
       "</div>"
      ],
      "text/plain": [
       "          Premium     MC BSM\n",
       "Strike                      \n",
       "80      30.209683  28.730600\n",
       "90      22.274272  21.121275\n",
       "100     14.714982  13.890068\n",
       "110      7.949722   7.423519\n",
       "120      3.457534   3.176415"
      ]
     },
     "execution_count": 28,
     "metadata": {},
     "output_type": "execute_result"
    }
   ],
   "source": [
    "option_premia.dropna()"
   ]
  },
  {
   "cell_type": "code",
   "execution_count": 29,
   "metadata": {},
   "outputs": [
    {
     "data": {
      "text/plain": [
       "<matplotlib.axes._subplots.AxesSubplot at 0x10f8e06a0>"
      ]
     },
     "execution_count": 29,
     "metadata": {},
     "output_type": "execute_result"
    },
    {
     "data": {
      "image/png": "[encoded data removed]",
      "text/plain": [
       "<matplotlib.figure.Figure at 0x10f9449e8>"
      ]
     },
     "metadata": {},
     "output_type": "display_data"
    }
   ],
   "source": [
    "option_premia.dropna().plot()"
   ]
  },
  {
   "cell_type": "code",
   "execution_count": 8,
   "metadata": {},
   "outputs": [
    {
     "data": {
      "text/html": [
       "<div>\n",
       "<style scoped>\n",
       "    .dataframe tbody tr th:only-of-type {\n",
       "        vertical-align: middle;\n",
       "    }\n",
       "\n",
       "    .dataframe tbody tr th {\n",
       "        vertical-align: top;\n",
       "    }\n",
       "\n",
       "    .dataframe thead th {\n",
       "        text-align: right;\n",
       "    }\n",
       "</style>\n",
       "<table border=\"1\" class=\"dataframe\">\n",
       "  <thead>\n",
       "    <tr style=\"text-align: right;\">\n",
       "      <th></th>\n",
       "      <th>Implied vol</th>\n",
       "    </tr>\n",
       "    <tr>\n",
       "      <th>Strike</th>\n",
       "      <th></th>\n",
       "    </tr>\n",
       "  </thead>\n",
       "  <tbody>\n",
       "    <tr>\n",
       "      <th>50</th>\n",
       "      <td>NaN</td>\n",
       "    </tr>\n",
       "    <tr>\n",
       "      <th>60</th>\n",
       "      <td>-0.002000</td>\n",
       "    </tr>\n",
       "    <tr>\n",
       "      <th>70</th>\n",
       "      <td>-0.000666</td>\n",
       "    </tr>\n",
       "    <tr>\n",
       "      <th>80</th>\n",
       "      <td>-0.003379</td>\n",
       "    </tr>\n",
       "    <tr>\n",
       "      <th>90</th>\n",
       "      <td>-0.003338</td>\n",
       "    </tr>\n",
       "    <tr>\n",
       "      <th>100</th>\n",
       "      <td>-0.003471</td>\n",
       "    </tr>\n",
       "    <tr>\n",
       "      <th>110</th>\n",
       "      <td>-0.003420</td>\n",
       "    </tr>\n",
       "    <tr>\n",
       "      <th>120</th>\n",
       "      <td>-0.001948</td>\n",
       "    </tr>\n",
       "    <tr>\n",
       "      <th>130</th>\n",
       "      <td>-0.000430</td>\n",
       "    </tr>\n",
       "    <tr>\n",
       "      <th>140</th>\n",
       "      <td>-0.000147</td>\n",
       "    </tr>\n",
       "    <tr>\n",
       "      <th>150</th>\n",
       "      <td>-0.000100</td>\n",
       "    </tr>\n",
       "  </tbody>\n",
       "</table>\n",
       "</div>"
      ],
      "text/plain": [
       "        Implied vol\n",
       "Strike             \n",
       "50              NaN\n",
       "60        -0.002000\n",
       "70        -0.000666\n",
       "80        -0.003379\n",
       "90        -0.003338\n",
       "100       -0.003471\n",
       "110       -0.003420\n",
       "120       -0.001948\n",
       "130       -0.000430\n",
       "140       -0.000147\n",
       "150       -0.000100"
      ]
     },
     "execution_count": 8,
     "metadata": {},
     "output_type": "execute_result"
    }
   ],
   "source": [
    "local_vols = pd.DataFrame(columns = [\"local_vol\"])\n",
    "\n",
    "d_impliedvol_d_strike = (implied_vols/100.).diff()/10.\n",
    "\n",
    "d_impliedvol_d_strike"
   ]
  },
  {
   "cell_type": "code",
   "execution_count": 9,
   "metadata": {},
   "outputs": [],
   "source": [
    "for strike in range(60,160,10):\n",
    "    implied_vol = implied_vols.loc[strike, \"Implied vol\"]/100.\n",
    "    d_1 = (log(s_0/strike) + (r + 0.5*implied_vol**2)*expiry)/(implied_vol*sqrt(expiry))\n",
    "    local_vols.loc[strike, \"local_vol\"] =   (implied_vol/\n",
    "                                            (1 + d_1 * strike * sqrt(expiry) * d_impliedvol_d_strike.loc[strike][0]))\n",
    "local_vols = local_vols.applymap(float)"
   ]
  },
  {
   "cell_type": "code",
   "execution_count": 10,
   "metadata": {},
   "outputs": [
    {
     "data": {
      "text/plain": [
       "<matplotlib.axes._subplots.AxesSubplot at 0x1153cc748>"
      ]
     },
     "execution_count": 10,
     "metadata": {},
     "output_type": "execute_result"
    },
    {
     "data": {
      "image/png": "[encoded data removed]",
      "text/plain": [
       "<matplotlib.figure.Figure at 0x110b3a080>"
      ]
     },
     "metadata": {},
     "output_type": "display_data"
    }
   ],
   "source": [
    "pd.concat([local_vols*100, implied_vols], axis = 1).plot()"
   ]
  },
  {
   "cell_type": "code",
   "execution_count": 11,
   "metadata": {},
   "outputs": [
    {
     "data": {
      "text/html": [
       "<div>\n",
       "<style scoped>\n",
       "    .dataframe tbody tr th:only-of-type {\n",
       "        vertical-align: middle;\n",
       "    }\n",
       "\n",
       "    .dataframe tbody tr th {\n",
       "        vertical-align: top;\n",
       "    }\n",
       "\n",
       "    .dataframe thead th {\n",
       "        text-align: right;\n",
       "    }\n",
       "</style>\n",
       "<table border=\"1\" class=\"dataframe\">\n",
       "  <thead>\n",
       "    <tr style=\"text-align: right;\">\n",
       "      <th></th>\n",
       "      <th>local_vol</th>\n",
       "    </tr>\n",
       "  </thead>\n",
       "  <tbody>\n",
       "    <tr>\n",
       "      <th>60</th>\n",
       "      <td>0.397379</td>\n",
       "    </tr>\n",
       "    <tr>\n",
       "      <th>70</th>\n",
       "      <td>0.300571</td>\n",
       "    </tr>\n",
       "    <tr>\n",
       "      <th>80</th>\n",
       "      <td>0.419828</td>\n",
       "    </tr>\n",
       "    <tr>\n",
       "      <th>90</th>\n",
       "      <td>0.322738</td>\n",
       "    </tr>\n",
       "    <tr>\n",
       "      <th>100</th>\n",
       "      <td>0.232324</td>\n",
       "    </tr>\n",
       "    <tr>\n",
       "      <th>110</th>\n",
       "      <td>0.146718</td>\n",
       "    </tr>\n",
       "    <tr>\n",
       "      <th>120</th>\n",
       "      <td>0.103682</td>\n",
       "    </tr>\n",
       "    <tr>\n",
       "      <th>130</th>\n",
       "      <td>0.105677</td>\n",
       "    </tr>\n",
       "    <tr>\n",
       "      <th>140</th>\n",
       "      <td>0.107582</td>\n",
       "    </tr>\n",
       "    <tr>\n",
       "      <th>150</th>\n",
       "      <td>0.106770</td>\n",
       "    </tr>\n",
       "  </tbody>\n",
       "</table>\n",
       "</div>"
      ],
      "text/plain": [
       "     local_vol\n",
       "60    0.397379\n",
       "70    0.300571\n",
       "80    0.419828\n",
       "90    0.322738\n",
       "100   0.232324\n",
       "110   0.146718\n",
       "120   0.103682\n",
       "130   0.105677\n",
       "140   0.107582\n",
       "150   0.106770"
      ]
     },
     "execution_count": 11,
     "metadata": {},
     "output_type": "execute_result"
    }
   ],
   "source": [
    "local_vols"
   ]
  },
  {
   "cell_type": "code",
   "execution_count": 35,
   "metadata": {},
   "outputs": [
    {
     "data": {
      "text/plain": [
       "0.2152029079813044"
      ]
     },
     "execution_count": 35,
     "metadata": {},
     "output_type": "execute_result"
    }
   ],
   "source": [
    "local_vol_interp(102)"
   ]
  },
  {
   "cell_type": "code",
   "execution_count": 34,
   "metadata": {},
   "outputs": [],
   "source": [
    "def local_vol_interp(S):\n",
    "    if S<60:\n",
    "        return local_vols.loc[60, \"local_vol\"]\n",
    "    elif S>150:\n",
    "        return local_vols.loc[150, \"local_vol\"]\n",
    "    elif S in local_vols.index.values:\n",
    "            return local_vols.loc[S, \"local_vol\"]\n",
    "    else:\n",
    "        interp = np.interp(S, local_vols.index, local_vols.iloc[:,0].values)\n",
    "        return interp"
   ]
  },
  {
   "cell_type": "code",
   "execution_count": 40,
   "metadata": {},
   "outputs": [],
   "source": [
    "#Local vol simulation\n",
    "strike = 100\n",
    "\n",
    "payoff_sum = 0\n",
    "\n",
    "for i in range(paths):\n",
    "    \n",
    "    S = s_0\n",
    "    \n",
    "    for k in range(timesteps):\n",
    "        random_normal = random_normals[i,k]\n",
    "        S = S * exp((r-0.5*(local_vol_interp(S)**2))*dtime + local_vol_interp(S)*sqrt(dtime)*random_normal)\n",
    "    \n",
    "    payoff = max(S-strike, 0) \n",
    "    payoff_sum = payoff_sum + payoff"
   ]
  },
  {
   "cell_type": "code",
   "execution_count": 41,
   "metadata": {},
   "outputs": [
    {
     "name": "stdout",
     "output_type": "stream",
     "text": [
      "16.32707704667012\n"
     ]
    }
   ],
   "source": [
    "Call_price = exp(-r*expiry)*payoff_sum/paths\n",
    "\n",
    "print(Call_price)\n",
    "\n",
    "option_premia.loc[strike, \"MC Local vol\"] = copy(Call_price)"
   ]
  },
  {
   "cell_type": "code",
   "execution_count": 42,
   "metadata": {},
   "outputs": [
    {
     "data": {
      "text/html": [
       "<div>\n",
       "<style scoped>\n",
       "    .dataframe tbody tr th:only-of-type {\n",
       "        vertical-align: middle;\n",
       "    }\n",
       "\n",
       "    .dataframe tbody tr th {\n",
       "        vertical-align: top;\n",
       "    }\n",
       "\n",
       "    .dataframe thead th {\n",
       "        text-align: right;\n",
       "    }\n",
       "</style>\n",
       "<table border=\"1\" class=\"dataframe\">\n",
       "  <thead>\n",
       "    <tr style=\"text-align: right;\">\n",
       "      <th></th>\n",
       "      <th>Premium</th>\n",
       "      <th>MC BSM</th>\n",
       "      <th>MC Local vol</th>\n",
       "    </tr>\n",
       "    <tr>\n",
       "      <th>Strike</th>\n",
       "      <th></th>\n",
       "      <th></th>\n",
       "      <th></th>\n",
       "    </tr>\n",
       "  </thead>\n",
       "  <tbody>\n",
       "    <tr>\n",
       "      <th>80</th>\n",
       "      <td>30.209683</td>\n",
       "      <td>28.730600</td>\n",
       "      <td>29.951449</td>\n",
       "    </tr>\n",
       "    <tr>\n",
       "      <th>90</th>\n",
       "      <td>22.274272</td>\n",
       "      <td>21.121275</td>\n",
       "      <td>22.937582</td>\n",
       "    </tr>\n",
       "    <tr>\n",
       "      <th>100</th>\n",
       "      <td>14.714982</td>\n",
       "      <td>13.890068</td>\n",
       "      <td>16.327077</td>\n",
       "    </tr>\n",
       "  </tbody>\n",
       "</table>\n",
       "</div>"
      ],
      "text/plain": [
       "          Premium     MC BSM  MC Local vol\n",
       "Strike                                    \n",
       "80      30.209683  28.730600     29.951449\n",
       "90      22.274272  21.121275     22.937582\n",
       "100     14.714982  13.890068     16.327077"
      ]
     },
     "execution_count": 42,
     "metadata": {},
     "output_type": "execute_result"
    }
   ],
   "source": [
    "option_premia.dropna()"
   ]
  },
  {
   "cell_type": "code",
   "execution_count": 43,
   "metadata": {},
   "outputs": [
    {
     "data": {
      "text/plain": [
       "<matplotlib.axes._subplots.AxesSubplot at 0x10faf92b0>"
      ]
     },
     "execution_count": 43,
     "metadata": {},
     "output_type": "execute_result"
    },
    {
     "data": {
      "image/png": "[encoded data removed]",
      "text/plain": [
       "<matplotlib.figure.Figure at 0x10fb6b550>"
      ]
     },
     "metadata": {},
     "output_type": "display_data"
    }
   ],
   "source": [
    "option_premia.dropna().plot()"
   ]
  },
  {
   "cell_type": "code",
   "execution_count": 47,
   "metadata": {},
   "outputs": [],
   "source": [
    "#MC BSM Delta\n",
    "strike = 100\n",
    "\n",
    "vol = implied_vols.loc[strike, \"Implied vol\"]/100.\n",
    "\n",
    "payoff_sum = 0\n",
    "\n",
    "for i in range(paths):\n",
    "    \n",
    "    S = s_0 - 1 \n",
    "    \n",
    "    for k in range(timesteps):\n",
    "        random_normal = random_normals[i,k]\n",
    "        S = S * exp((r-0.5*(vol**2))*dtime + vol*sqrt(dtime)*random_normal)\n",
    "    \n",
    "    payoff = max(S-strike, 0) \n",
    "    payoff_sum = payoff_sum + payoff"
   ]
  },
  {
   "cell_type": "code",
   "execution_count": 48,
   "metadata": {},
   "outputs": [
    {
     "name": "stdout",
     "output_type": "stream",
     "text": [
      "13.218904107631086\n"
     ]
    }
   ],
   "source": [
    "Call_price = exp(-r*expiry)*payoff_sum/paths\n",
    "S_99 = copy(Call_price)\n",
    "print(S_99)\n"
   ]
  },
  {
   "cell_type": "code",
   "execution_count": 49,
   "metadata": {},
   "outputs": [
    {
     "name": "stdout",
     "output_type": "stream",
     "text": [
      "0.6773699911219451\n"
     ]
    }
   ],
   "source": [
    "Delta = (S_101 - S_99) / 2.\n",
    "print(Delta)"
   ]
  },
  {
   "cell_type": "code",
   "execution_count": 12,
   "metadata": {},
   "outputs": [
    {
     "name": "stdout",
     "output_type": "stream",
     "text": [
      "0.7032066202812703\n"
     ]
    }
   ],
   "source": [
    "#Analytical BSM delta\n",
    "implied_vol_100 = implied_vols.loc[100, \"Implied vol\"]/100.\n",
    "d_1 = (log(s_0/100) + (r + 0.5*implied_vol_100**2)*expiry)/(implied_vol_100*sqrt(expiry))\n",
    "BSM_delta = norm.cdf(d_1)\n",
    "print(BSM_delta)"
   ]
  },
  {
   "cell_type": "code",
   "execution_count": 17,
   "metadata": {},
   "outputs": [
    {
     "name": "stdout",
     "output_type": "stream",
     "text": [
      "48.93125896136969\n"
     ]
    }
   ],
   "source": [
    "BSM_vega = s_0 * norm.pdf(d_1) * sqrt(expiry)\n",
    "print(BSM_vega)\n",
    "beta = (local_vols.diff()/10).loc[100, \"local_vol\"]/2"
   ]
  },
  {
   "cell_type": "code",
   "execution_count": 18,
   "metadata": {},
   "outputs": [
    {
     "data": {
      "text/plain": [
       "-0.004520686424234031"
      ]
     },
     "execution_count": 18,
     "metadata": {},
     "output_type": "execute_result"
    }
   ],
   "source": [
    "beta"
   ]
  },
  {
   "cell_type": "code",
   "execution_count": 19,
   "metadata": {},
   "outputs": [
    {
     "name": "stdout",
     "output_type": "stream",
     "text": [
      "0.4820037421739266\n"
     ]
    }
   ],
   "source": [
    "#Approximated LV Delta\n",
    "Local_vol_delta = BSM_delta + BSM_vega * beta\n",
    "print(Local_vol_delta)"
   ]
  },
  {
   "cell_type": "code",
   "execution_count": 57,
   "metadata": {},
   "outputs": [],
   "source": [
    "#MS LV delta \n",
    "strike = 100\n",
    "\n",
    "payoff_sum = 0\n",
    "\n",
    "for i in range(paths):\n",
    "    \n",
    "    S = s_0 - 1\n",
    "    \n",
    "    for k in range(timesteps):\n",
    "        random_normal = random_normals[i,k]\n",
    "        S = S * exp((r-0.5*(local_vol_interp(S)**2))*dtime + local_vol_interp(S)*sqrt(dtime)*random_normal)\n",
    "    \n",
    "    payoff = max(S-strike, 0) \n",
    "    payoff_sum = payoff_sum + payoff"
   ]
  },
  {
   "cell_type": "code",
   "execution_count": 58,
   "metadata": {},
   "outputs": [
    {
     "name": "stdout",
     "output_type": "stream",
     "text": [
      "15.825674349028548\n"
     ]
    }
   ],
   "source": [
    "Call_price = exp(-r*expiry)*payoff_sum/paths\n",
    "S_99 = copy(Call_price)\n",
    "print(S_99)"
   ]
  },
  {
   "cell_type": "code",
   "execution_count": 59,
   "metadata": {},
   "outputs": [
    {
     "name": "stdout",
     "output_type": "stream",
     "text": [
      "0.5030546667829325\n"
     ]
    }
   ],
   "source": [
    "Local_vol_delta = (S_101 - S_99) / 2.\n",
    "print(Local_vol_delta)"
   ]
  },
  {
   "cell_type": "code",
   "execution_count": 67,
   "metadata": {},
   "outputs": [],
   "source": [
    "#FD BSM\n",
    "S_max          = 200.\n",
    "asset_step     = 1\n",
    "t_step         = 0.00025\n",
    "\n",
    "no_asset_steps = int(S_max/asset_step)\n",
    "\n",
    "no_time_steps = int(expiry/t_step)\n",
    "\n",
    "S = np.zeros(no_asset_steps+1)\n",
    "V = np.zeros((no_asset_steps+1, no_time_steps+1))\n",
    "\n",
    "strike = 100.\n",
    "vol = implied_vols.loc[strike, \"Implied vol\"]/100.\n",
    "\n",
    "for i in range(no_asset_steps+1):\n",
    "    S[i] = i*asset_step\n",
    "    V[i, no_time_steps] = max(S[i] - strike, 0)\n",
    "\n",
    "for k in range(no_time_steps, 0, -1):\n",
    "    for i in range(1,no_asset_steps):\n",
    "        \n",
    "        delta_term = r * S[i] * (V[i+1,k] - V[i-1,k]) / 2*asset_step\n",
    "        gamma_term = 0.5*(vol**2)*(S[i]**2)*(V[i+1,k] + V[i-1,k] - 2*V[i,k])/(asset_step**2)\n",
    "        \n",
    "        theta_term = r*V[i,k] - gamma_term - delta_term\n",
    "        V[i, k-1] = V[i,k] - theta_term * t_step\n",
    "        \n",
    "    V[0, k-1] = 0\n",
    "    V[no_asset_steps, k-1] = 2*V[no_asset_steps-1, k-1] - V[no_asset_steps-2, k-1]\n",
    "\n",
    "option_premia.loc[strike, \"FDM BSM\"] = V[100,0]"
   ]
  },
  {
   "cell_type": "code",
   "execution_count": 61,
   "metadata": {},
   "outputs": [
    {
     "data": {
      "text/plain": [
       "array([[0.00000000e+00, 0.00000000e+00, 0.00000000e+00, ...,\n",
       "        0.00000000e+00, 0.00000000e+00, 0.00000000e+00],\n",
       "       [2.69280982e-33, 2.67736398e-33, 2.66200403e-33, ...,\n",
       "        0.00000000e+00, 0.00000000e+00, 0.00000000e+00],\n",
       "       [1.57037772e-30, 1.56164631e-30, 1.55296191e-30, ...,\n",
       "        0.00000000e+00, 0.00000000e+00, 0.00000000e+00],\n",
       "       ...,\n",
       "       [1.07514322e+02, 1.07513193e+02, 1.07512064e+02, ...,\n",
       "        9.80025000e+01, 9.80012500e+01, 9.80000000e+01],\n",
       "       [1.08513435e+02, 1.08512307e+02, 1.08511178e+02, ...,\n",
       "        9.90025000e+01, 9.90012500e+01, 9.90000000e+01],\n",
       "       [1.09512548e+02, 1.09511420e+02, 1.09510292e+02, ...,\n",
       "        1.00002500e+02, 1.00001250e+02, 1.00000000e+02]])"
      ]
     },
     "execution_count": 61,
     "metadata": {},
     "output_type": "execute_result"
    }
   ],
   "source": [
    "V"
   ]
  },
  {
   "cell_type": "code",
   "execution_count": 65,
   "metadata": {},
   "outputs": [
    {
     "data": {
      "text/html": [
       "<div>\n",
       "<style scoped>\n",
       "    .dataframe tbody tr th:only-of-type {\n",
       "        vertical-align: middle;\n",
       "    }\n",
       "\n",
       "    .dataframe tbody tr th {\n",
       "        vertical-align: top;\n",
       "    }\n",
       "\n",
       "    .dataframe thead th {\n",
       "        text-align: right;\n",
       "    }\n",
       "</style>\n",
       "<table border=\"1\" class=\"dataframe\">\n",
       "  <thead>\n",
       "    <tr style=\"text-align: right;\">\n",
       "      <th></th>\n",
       "      <th>Premium</th>\n",
       "      <th>MC BSM</th>\n",
       "      <th>MC Local vol</th>\n",
       "      <th>FDM BSM</th>\n",
       "    </tr>\n",
       "    <tr>\n",
       "      <th>Strike</th>\n",
       "      <th></th>\n",
       "      <th></th>\n",
       "      <th></th>\n",
       "      <th></th>\n",
       "    </tr>\n",
       "  </thead>\n",
       "  <tbody>\n",
       "    <tr>\n",
       "      <th>90</th>\n",
       "      <td>22.274272</td>\n",
       "      <td>21.121275</td>\n",
       "      <td>22.937582</td>\n",
       "      <td>22.272947</td>\n",
       "    </tr>\n",
       "    <tr>\n",
       "      <th>100</th>\n",
       "      <td>14.714982</td>\n",
       "      <td>13.890068</td>\n",
       "      <td>16.327077</td>\n",
       "      <td>14.713087</td>\n",
       "    </tr>\n",
       "  </tbody>\n",
       "</table>\n",
       "</div>"
      ],
      "text/plain": [
       "          Premium     MC BSM  MC Local vol    FDM BSM\n",
       "Strike                                               \n",
       "90      22.274272  21.121275     22.937582  22.272947\n",
       "100     14.714982  13.890068     16.327077  14.713087"
      ]
     },
     "execution_count": 65,
     "metadata": {},
     "output_type": "execute_result"
    }
   ],
   "source": [
    "option_premia.dropna()"
   ]
  },
  {
   "cell_type": "code",
   "execution_count": 68,
   "metadata": {},
   "outputs": [
    {
     "name": "stdout",
     "output_type": "stream",
     "text": [
      "0.7031594188945371\n"
     ]
    }
   ],
   "source": [
    "#FDM BSM delta\n",
    "FDM_BSM_Delta = (V[101,0] - V[99,0]) / 2.\n",
    "print(FDM_BSM_Delta)"
   ]
  },
  {
   "cell_type": "code",
   "execution_count": 69,
   "metadata": {},
   "outputs": [],
   "source": [
    "#FDM local vol\n",
    "strike = 100.\n",
    "vol = implied_vols.loc[strike, \"Implied vol\"]/100.\n",
    "\n",
    "for i in range(no_asset_steps+1):\n",
    "    S[i] = i*asset_step\n",
    "    V[i, no_time_steps] = max(S[i] - strike, 0)\n",
    "\n",
    "for k in range(no_time_steps, 0, -1):\n",
    "    for i in range(1,no_asset_steps):\n",
    "        \n",
    "        vol = local_vol_interp(S[i])\n",
    "        \n",
    "        delta_term = r * S[i] * (V[i+1,k] - V[i-1,k]) / 2*asset_step\n",
    "        gamma_term = 0.5*(vol**2)*(S[i]**2)*(V[i+1,k] + V[i-1,k] - 2*V[i,k])/(asset_step**2)\n",
    "        \n",
    "        theta_term = r*V[i,k] - gamma_term - delta_term\n",
    "        V[i, k-1] = V[i,k] - theta_term * t_step\n",
    "        \n",
    "    V[0, k-1] = 0\n",
    "    V[no_asset_steps, k-1] = 2*V[no_asset_steps-1, k-1] - V[no_asset_steps-2, k-1]\n",
    "\n",
    "option_premia.loc[strike, \"FDM Local vol\"] = V[100,0]"
   ]
  },
  {
   "cell_type": "code",
   "execution_count": 70,
   "metadata": {},
   "outputs": [
    {
     "data": {
      "text/html": [
       "<div>\n",
       "<style scoped>\n",
       "    .dataframe tbody tr th:only-of-type {\n",
       "        vertical-align: middle;\n",
       "    }\n",
       "\n",
       "    .dataframe tbody tr th {\n",
       "        vertical-align: top;\n",
       "    }\n",
       "\n",
       "    .dataframe thead th {\n",
       "        text-align: right;\n",
       "    }\n",
       "</style>\n",
       "<table border=\"1\" class=\"dataframe\">\n",
       "  <thead>\n",
       "    <tr style=\"text-align: right;\">\n",
       "      <th></th>\n",
       "      <th>Premium</th>\n",
       "      <th>MC BSM</th>\n",
       "      <th>MC Local vol</th>\n",
       "      <th>FDM BSM</th>\n",
       "      <th>FDM Local vol</th>\n",
       "    </tr>\n",
       "    <tr>\n",
       "      <th>Strike</th>\n",
       "      <th></th>\n",
       "      <th></th>\n",
       "      <th></th>\n",
       "      <th></th>\n",
       "      <th></th>\n",
       "    </tr>\n",
       "  </thead>\n",
       "  <tbody>\n",
       "    <tr>\n",
       "      <th>100</th>\n",
       "      <td>14.714982</td>\n",
       "      <td>13.890068</td>\n",
       "      <td>16.327077</td>\n",
       "      <td>14.713087</td>\n",
       "      <td>16.974293</td>\n",
       "    </tr>\n",
       "  </tbody>\n",
       "</table>\n",
       "</div>"
      ],
      "text/plain": [
       "          Premium     MC BSM  MC Local vol    FDM BSM  FDM Local vol\n",
       "Strike                                                              \n",
       "100     14.714982  13.890068     16.327077  14.713087      16.974293"
      ]
     },
     "execution_count": 70,
     "metadata": {},
     "output_type": "execute_result"
    }
   ],
   "source": [
    "option_premia.dropna()"
   ]
  },
  {
   "cell_type": "code",
   "execution_count": 71,
   "metadata": {},
   "outputs": [
    {
     "data": {
      "text/plain": [
       "16.97429265969222"
      ]
     },
     "execution_count": 71,
     "metadata": {},
     "output_type": "execute_result"
    }
   ],
   "source": [
    "V[100,0]"
   ]
  },
  {
   "cell_type": "code",
   "execution_count": 72,
   "metadata": {},
   "outputs": [
    {
     "name": "stdout",
     "output_type": "stream",
     "text": [
      "0.5163176492855843\n"
     ]
    }
   ],
   "source": [
    "#FDM LV delta\n",
    "FDM_LV_Delta = (V[101,0] - V[99,0]) / 2.\n",
    "print(FDM_LV_Delta)"
   ]
  }
 ],
 "metadata": {
  "kernelspec": {
   "display_name": "Python 3",
   "language": "python",
   "name": "python3"
  },
  "language_info": {
   "codemirror_mode": {
    "name": "ipython",
    "version": 3
   },
   "file_extension": ".py",
   "mimetype": "text/x-python",
   "name": "python",
   "nbconvert_exporter": "python",
   "pygments_lexer": "ipython3",
   "version": "3.6.4"
  }
 },
 "nbformat": 4,
 "nbformat_minor": 2
}
